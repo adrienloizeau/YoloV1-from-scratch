{
  "cells": [
    {
      "cell_type": "markdown",
      "metadata": {
        "id": "view-in-github",
        "colab_type": "text"
      },
      "source": [
        "<a href=\"https://colab.research.google.com/github/adrienloizeau/Yolov1_from_scratch/blob/main/train_on_colabs.ipynb\" target=\"_parent\"><img src=\"https://colab.research.google.com/assets/colab-badge.svg\" alt=\"Open In Colab\"/></a>"
      ]
    },
    {
      "cell_type": "markdown",
      "source": [
        "This notebook was used to train an overfitted model. The idea is to explore the results of the project.\n"
      ],
      "metadata": {
        "id": "pmxDZCMKPu4h"
      }
    },
    {
      "cell_type": "code",
      "execution_count": null,
      "metadata": {
        "colab": {
          "base_uri": "https://localhost:8080/"
        },
        "id": "E1yArKEl-lJO",
        "outputId": "99951f77-6711-439f-867e-e51a10da9ac8"
      },
      "outputs": [
        {
          "output_type": "stream",
          "name": "stdout",
          "text": [
            "Cloning into 'Yolov1_from_scratch'...\n",
            "remote: Enumerating objects: 43, done.\u001b[K\n",
            "remote: Counting objects: 100% (43/43), done.\u001b[K\n",
            "remote: Compressing objects: 100% (35/35), done.\u001b[K\n",
            "remote: Total 43 (delta 17), reused 20 (delta 5), pack-reused 0\u001b[K\n",
            "Unpacking objects: 100% (43/43), 15.23 KiB | 1.01 MiB/s, done.\n"
          ]
        }
      ],
      "source": [
        "!git clone https://github.com/adrienloizeau/Yolov1_from_scratch.git"
      ]
    },
    {
      "cell_type": "markdown",
      "source": [
        "# Kaggle connection and dataset download"
      ],
      "metadata": {
        "id": "c9oYjmvJ_M99"
      }
    },
    {
      "cell_type": "code",
      "execution_count": null,
      "metadata": {
        "colab": {
          "base_uri": "https://localhost:8080/",
          "height": 132
        },
        "id": "wktQ4nLr-lJQ",
        "outputId": "7821d3ec-8c08-455d-a12c-17bf71046aac"
      },
      "outputs": [
        {
          "output_type": "display_data",
          "data": {
            "text/plain": [
              "<IPython.core.display.HTML object>"
            ],
            "text/html": [
              "\n",
              "     <input type=\"file\" id=\"files-335fca2a-09c2-4b14-9de8-e641bdec0cd0\" name=\"files[]\" multiple disabled\n",
              "        style=\"border:none\" />\n",
              "     <output id=\"result-335fca2a-09c2-4b14-9de8-e641bdec0cd0\">\n",
              "      Upload widget is only available when the cell has been executed in the\n",
              "      current browser session. Please rerun this cell to enable.\n",
              "      </output>\n",
              "      <script>// Copyright 2017 Google LLC\n",
              "//\n",
              "// Licensed under the Apache License, Version 2.0 (the \"License\");\n",
              "// you may not use this file except in compliance with the License.\n",
              "// You may obtain a copy of the License at\n",
              "//\n",
              "//      http://www.apache.org/licenses/LICENSE-2.0\n",
              "//\n",
              "// Unless required by applicable law or agreed to in writing, software\n",
              "// distributed under the License is distributed on an \"AS IS\" BASIS,\n",
              "// WITHOUT WARRANTIES OR CONDITIONS OF ANY KIND, either express or implied.\n",
              "// See the License for the specific language governing permissions and\n",
              "// limitations under the License.\n",
              "\n",
              "/**\n",
              " * @fileoverview Helpers for google.colab Python module.\n",
              " */\n",
              "(function(scope) {\n",
              "function span(text, styleAttributes = {}) {\n",
              "  const element = document.createElement('span');\n",
              "  element.textContent = text;\n",
              "  for (const key of Object.keys(styleAttributes)) {\n",
              "    element.style[key] = styleAttributes[key];\n",
              "  }\n",
              "  return element;\n",
              "}\n",
              "\n",
              "// Max number of bytes which will be uploaded at a time.\n",
              "const MAX_PAYLOAD_SIZE = 100 * 1024;\n",
              "\n",
              "function _uploadFiles(inputId, outputId) {\n",
              "  const steps = uploadFilesStep(inputId, outputId);\n",
              "  const outputElement = document.getElementById(outputId);\n",
              "  // Cache steps on the outputElement to make it available for the next call\n",
              "  // to uploadFilesContinue from Python.\n",
              "  outputElement.steps = steps;\n",
              "\n",
              "  return _uploadFilesContinue(outputId);\n",
              "}\n",
              "\n",
              "// This is roughly an async generator (not supported in the browser yet),\n",
              "// where there are multiple asynchronous steps and the Python side is going\n",
              "// to poll for completion of each step.\n",
              "// This uses a Promise to block the python side on completion of each step,\n",
              "// then passes the result of the previous step as the input to the next step.\n",
              "function _uploadFilesContinue(outputId) {\n",
              "  const outputElement = document.getElementById(outputId);\n",
              "  const steps = outputElement.steps;\n",
              "\n",
              "  const next = steps.next(outputElement.lastPromiseValue);\n",
              "  return Promise.resolve(next.value.promise).then((value) => {\n",
              "    // Cache the last promise value to make it available to the next\n",
              "    // step of the generator.\n",
              "    outputElement.lastPromiseValue = value;\n",
              "    return next.value.response;\n",
              "  });\n",
              "}\n",
              "\n",
              "/**\n",
              " * Generator function which is called between each async step of the upload\n",
              " * process.\n",
              " * @param {string} inputId Element ID of the input file picker element.\n",
              " * @param {string} outputId Element ID of the output display.\n",
              " * @return {!Iterable<!Object>} Iterable of next steps.\n",
              " */\n",
              "function* uploadFilesStep(inputId, outputId) {\n",
              "  const inputElement = document.getElementById(inputId);\n",
              "  inputElement.disabled = false;\n",
              "\n",
              "  const outputElement = document.getElementById(outputId);\n",
              "  outputElement.innerHTML = '';\n",
              "\n",
              "  const pickedPromise = new Promise((resolve) => {\n",
              "    inputElement.addEventListener('change', (e) => {\n",
              "      resolve(e.target.files);\n",
              "    });\n",
              "  });\n",
              "\n",
              "  const cancel = document.createElement('button');\n",
              "  inputElement.parentElement.appendChild(cancel);\n",
              "  cancel.textContent = 'Cancel upload';\n",
              "  const cancelPromise = new Promise((resolve) => {\n",
              "    cancel.onclick = () => {\n",
              "      resolve(null);\n",
              "    };\n",
              "  });\n",
              "\n",
              "  // Wait for the user to pick the files.\n",
              "  const files = yield {\n",
              "    promise: Promise.race([pickedPromise, cancelPromise]),\n",
              "    response: {\n",
              "      action: 'starting',\n",
              "    }\n",
              "  };\n",
              "\n",
              "  cancel.remove();\n",
              "\n",
              "  // Disable the input element since further picks are not allowed.\n",
              "  inputElement.disabled = true;\n",
              "\n",
              "  if (!files) {\n",
              "    return {\n",
              "      response: {\n",
              "        action: 'complete',\n",
              "      }\n",
              "    };\n",
              "  }\n",
              "\n",
              "  for (const file of files) {\n",
              "    const li = document.createElement('li');\n",
              "    li.append(span(file.name, {fontWeight: 'bold'}));\n",
              "    li.append(span(\n",
              "        `(${file.type || 'n/a'}) - ${file.size} bytes, ` +\n",
              "        `last modified: ${\n",
              "            file.lastModifiedDate ? file.lastModifiedDate.toLocaleDateString() :\n",
              "                                    'n/a'} - `));\n",
              "    const percent = span('0% done');\n",
              "    li.appendChild(percent);\n",
              "\n",
              "    outputElement.appendChild(li);\n",
              "\n",
              "    const fileDataPromise = new Promise((resolve) => {\n",
              "      const reader = new FileReader();\n",
              "      reader.onload = (e) => {\n",
              "        resolve(e.target.result);\n",
              "      };\n",
              "      reader.readAsArrayBuffer(file);\n",
              "    });\n",
              "    // Wait for the data to be ready.\n",
              "    let fileData = yield {\n",
              "      promise: fileDataPromise,\n",
              "      response: {\n",
              "        action: 'continue',\n",
              "      }\n",
              "    };\n",
              "\n",
              "    // Use a chunked sending to avoid message size limits. See b/62115660.\n",
              "    let position = 0;\n",
              "    do {\n",
              "      const length = Math.min(fileData.byteLength - position, MAX_PAYLOAD_SIZE);\n",
              "      const chunk = new Uint8Array(fileData, position, length);\n",
              "      position += length;\n",
              "\n",
              "      const base64 = btoa(String.fromCharCode.apply(null, chunk));\n",
              "      yield {\n",
              "        response: {\n",
              "          action: 'append',\n",
              "          file: file.name,\n",
              "          data: base64,\n",
              "        },\n",
              "      };\n",
              "\n",
              "      let percentDone = fileData.byteLength === 0 ?\n",
              "          100 :\n",
              "          Math.round((position / fileData.byteLength) * 100);\n",
              "      percent.textContent = `${percentDone}% done`;\n",
              "\n",
              "    } while (position < fileData.byteLength);\n",
              "  }\n",
              "\n",
              "  // All done.\n",
              "  yield {\n",
              "    response: {\n",
              "      action: 'complete',\n",
              "    }\n",
              "  };\n",
              "}\n",
              "\n",
              "scope.google = scope.google || {};\n",
              "scope.google.colab = scope.google.colab || {};\n",
              "scope.google.colab._files = {\n",
              "  _uploadFiles,\n",
              "  _uploadFilesContinue,\n",
              "};\n",
              "})(self);\n",
              "</script> "
            ]
          },
          "metadata": {}
        },
        {
          "output_type": "stream",
          "name": "stdout",
          "text": [
            "Saving kaggle.json to kaggle.json\n",
            "Downloading pascalvoc-yolo.zip to /content\n",
            "100% 4.30G/4.31G [00:28<00:00, 181MB/s]\n",
            "100% 4.31G/4.31G [00:28<00:00, 163MB/s]\n"
          ]
        }
      ],
      "source": [
        "! pip install -q kaggle\n",
        "from google.colab import files\n",
        "files.upload()\n",
        "! mkdir ~/.kaggle\n",
        "! cp kaggle.json ~/.kaggle/\n",
        "! chmod 600 ~/.kaggle/kaggle.json\n",
        "!kaggle datasets download -d aladdinpersson/pascalvoc-yolo"
      ]
    },
    {
      "cell_type": "code",
      "source": [
        "!sudo apt-get install unzip\n",
        "!unzip pascalvoc-yolo.zip "
      ],
      "metadata": {
        "id": "hyqguhim_X7A"
      },
      "execution_count": null,
      "outputs": []
    },
    {
      "cell_type": "markdown",
      "source": [
        "# Training"
      ],
      "metadata": {
        "id": "1BKVzw3eAVXi"
      }
    },
    {
      "cell_type": "code",
      "source": [
        "!python /content/Yolov1_from_scratch/train.py --dir ."
      ],
      "metadata": {
        "id": "UuKP4kFkA9JD",
        "colab": {
          "base_uri": "https://localhost:8080/"
        },
        "outputId": "ae0f9122-f9a8-490f-8e79-c443509b5fcd"
      },
      "execution_count": 27,
      "outputs": [
        {
          "output_type": "stream",
          "name": "stdout",
          "text": [
            "Train mAP:0.0\n",
            "100% 1/1 [00:00<00:00,  1.09it/s, loss=758]\n",
            "Mean loss was 757.6206665039062\n",
            "Train mAP:0.0\n",
            "100% 1/1 [00:00<00:00,  1.95it/s, loss=238]\n",
            "Mean loss was 237.60012817382812\n",
            "Train mAP:0.0\n",
            "100% 1/1 [00:00<00:00,  1.93it/s, loss=164]\n",
            "Mean loss was 163.73324584960938\n",
            "Train mAP:0.0\n",
            "100% 1/1 [00:00<00:00,  1.95it/s, loss=125]\n",
            "Mean loss was 125.00083923339844\n",
            "Train mAP:0.0\n",
            "100% 1/1 [00:00<00:00,  1.93it/s, loss=100]\n",
            "Mean loss was 100.36579895019531\n",
            "Train mAP:0.0\n",
            "100% 1/1 [00:00<00:00,  1.94it/s, loss=81.8]\n",
            "Mean loss was 81.84879302978516\n",
            "Train mAP:0.0\n",
            "100% 1/1 [00:00<00:00,  1.94it/s, loss=68.1]\n",
            "Mean loss was 68.0997085571289\n",
            "Train mAP:0.0\n",
            "100% 1/1 [00:00<00:00,  1.93it/s, loss=57.1]\n",
            "Mean loss was 57.09931564331055\n",
            "Train mAP:0.0\n",
            "100% 1/1 [00:00<00:00,  1.92it/s, loss=49]\n",
            "Mean loss was 48.96257019042969\n",
            "Train mAP:0.0\n",
            "100% 1/1 [00:00<00:00,  1.91it/s, loss=42]\n",
            "Mean loss was 42.02337646484375\n",
            "Train mAP:0.0\n",
            "100% 1/1 [00:00<00:00,  1.54it/s, loss=36.4]\n",
            "Mean loss was 36.413238525390625\n",
            "Train mAP:0.0\n",
            "100% 1/1 [00:00<00:00,  1.65it/s, loss=31.4]\n",
            "Mean loss was 31.449684143066406\n",
            "Train mAP:0.0\n",
            "100% 1/1 [00:00<00:00,  1.92it/s, loss=27.1]\n",
            "Mean loss was 27.097064971923828\n",
            "Train mAP:0.0\n",
            "100% 1/1 [00:00<00:00,  1.90it/s, loss=23.3]\n",
            "Mean loss was 23.30162811279297\n",
            "Train mAP:0.0\n",
            "100% 1/1 [00:00<00:00,  1.91it/s, loss=20.1]\n",
            "Mean loss was 20.11635971069336\n",
            "Train mAP:0.0\n",
            "100% 1/1 [00:00<00:00,  1.94it/s, loss=17.4]\n",
            "Mean loss was 17.423568725585938\n",
            "Train mAP:0.0\n",
            "100% 1/1 [00:00<00:00,  1.89it/s, loss=15.2]\n",
            "Mean loss was 15.155160903930664\n",
            "Train mAP:0.0\n",
            "100% 1/1 [00:00<00:00,  1.94it/s, loss=13.2]\n",
            "Mean loss was 13.235207557678223\n",
            "Train mAP:0.0\n",
            "100% 1/1 [00:00<00:00,  1.91it/s, loss=11.6]\n",
            "Mean loss was 11.559484481811523\n",
            "Train mAP:0.0\n",
            "100% 1/1 [00:00<00:00,  1.91it/s, loss=10]\n",
            "Mean loss was 10.042658805847168\n",
            "Train mAP:0.0\n",
            "100% 1/1 [00:00<00:00,  1.76it/s, loss=8.76]\n",
            "Mean loss was 8.756368637084961\n",
            "Train mAP:0.0\n",
            "100% 1/1 [00:00<00:00,  1.53it/s, loss=7.63]\n",
            "Mean loss was 7.6316375732421875\n",
            "Train mAP:0.0\n",
            "100% 1/1 [00:00<00:00,  1.93it/s, loss=6.64]\n",
            "Mean loss was 6.638821601867676\n",
            "Train mAP:0.0\n",
            "100% 1/1 [00:00<00:00,  1.92it/s, loss=5.79]\n",
            "Mean loss was 5.787762641906738\n",
            "Train mAP:0.0\n",
            "100% 1/1 [00:00<00:00,  1.93it/s, loss=5.06]\n",
            "Mean loss was 5.064922332763672\n",
            "Train mAP:0.0\n",
            "100% 1/1 [00:00<00:00,  1.90it/s, loss=4.43]\n",
            "Mean loss was 4.427539348602295\n",
            "Train mAP:0.0\n",
            "100% 1/1 [00:00<00:00,  1.93it/s, loss=3.89]\n",
            "Mean loss was 3.894639492034912\n",
            "Train mAP:0.0\n",
            "100% 1/1 [00:00<00:00,  1.88it/s, loss=3.45]\n",
            "Mean loss was 3.445535182952881\n",
            "Train mAP:0.0\n",
            "100% 1/1 [00:00<00:00,  1.91it/s, loss=3.04]\n",
            "Mean loss was 3.039057731628418\n",
            "Train mAP:0.0\n",
            "100% 1/1 [00:00<00:00,  1.89it/s, loss=2.68]\n",
            "Mean loss was 2.679421901702881\n",
            "Train mAP:0.0\n",
            "100% 1/1 [00:00<00:00,  1.89it/s, loss=2.36]\n",
            "Mean loss was 2.356778144836426\n",
            "Train mAP:0.0\n",
            "100% 1/1 [00:00<00:00,  1.52it/s, loss=2.08]\n",
            "Mean loss was 2.0823593139648438\n",
            "Train mAP:0.0\n",
            "100% 1/1 [00:00<00:00,  1.68it/s, loss=1.85]\n",
            "Mean loss was 1.8522319793701172\n",
            "Train mAP:0.0\n",
            "100% 1/1 [00:00<00:00,  1.91it/s, loss=1.64]\n",
            "Mean loss was 1.6417431831359863\n",
            "Train mAP:0.0\n",
            "100% 1/1 [00:00<00:00,  1.85it/s, loss=1.45]\n",
            "Mean loss was 1.4465214014053345\n",
            "Train mAP:0.0\n",
            "100% 1/1 [00:00<00:00,  1.93it/s, loss=1.27]\n",
            "Mean loss was 1.2688275575637817\n",
            "Train mAP:0.0\n",
            "100% 1/1 [00:00<00:00,  1.90it/s, loss=1.11]\n",
            "Mean loss was 1.1075695753097534\n",
            "Train mAP:0.0\n",
            "100% 1/1 [00:00<00:00,  1.95it/s, loss=0.965]\n",
            "Mean loss was 0.965221643447876\n",
            "Train mAP:0.0\n",
            "100% 1/1 [00:00<00:00,  1.91it/s, loss=0.845]\n",
            "Mean loss was 0.8448126316070557\n",
            "Train mAP:0.0\n",
            "100% 1/1 [00:00<00:00,  1.98it/s, loss=0.742]\n",
            "Mean loss was 0.7419924139976501\n",
            "Train mAP:0.0\n",
            "100% 1/1 [00:00<00:00,  1.92it/s, loss=0.655]\n",
            "Mean loss was 0.6554731726646423\n",
            "Train mAP:0.0\n",
            "100% 1/1 [00:00<00:00,  1.74it/s, loss=0.579]\n",
            "Mean loss was 0.5792354941368103\n",
            "Train mAP:0.0\n",
            "100% 1/1 [00:00<00:00,  1.55it/s, loss=0.51]\n",
            "Mean loss was 0.5098950266838074\n",
            "Train mAP:0.0\n",
            "100% 1/1 [00:00<00:00,  1.94it/s, loss=0.449]\n",
            "Mean loss was 0.44923684000968933\n",
            "Train mAP:0.0\n",
            "100% 1/1 [00:00<00:00,  1.90it/s, loss=0.394]\n",
            "Mean loss was 0.39408060908317566\n",
            "Train mAP:0.0\n",
            "100% 1/1 [00:00<00:00,  1.91it/s, loss=0.345]\n",
            "Mean loss was 0.34520015120506287\n",
            "Train mAP:0.0\n",
            "100% 1/1 [00:00<00:00,  1.92it/s, loss=0.303]\n",
            "Mean loss was 0.30288928747177124\n",
            "Train mAP:0.0\n",
            "100% 1/1 [00:00<00:00,  1.89it/s, loss=0.262]\n",
            "Mean loss was 0.26193535327911377\n",
            "Train mAP:0.0\n",
            "100% 1/1 [00:00<00:00,  1.95it/s, loss=0.225]\n",
            "Mean loss was 0.22529006004333496\n",
            "Train mAP:0.0\n",
            "100% 1/1 [00:00<00:00,  1.91it/s, loss=0.195]\n",
            "Mean loss was 0.1948600858449936\n",
            "Train mAP:0.0\n",
            "100% 1/1 [00:00<00:00,  1.95it/s, loss=0.17]\n",
            "Mean loss was 0.17045967280864716\n",
            "Train mAP:0.0\n",
            "100% 1/1 [00:00<00:00,  1.91it/s, loss=0.15]\n",
            "Mean loss was 0.1498822569847107\n",
            "Train mAP:0.0\n",
            "100% 1/1 [00:00<00:00,  1.54it/s, loss=0.133]\n",
            "Mean loss was 0.13254021108150482\n",
            "Train mAP:0.0\n",
            "100% 1/1 [00:00<00:00,  1.58it/s, loss=0.118]\n",
            "Mean loss was 0.1175929456949234\n",
            "Train mAP:0.05555551126599312\n",
            "100% 1/1 [00:00<00:00,  1.92it/s, loss=0.105]\n",
            "Mean loss was 0.10511695593595505\n",
            "Train mAP:0.05555551126599312\n",
            "100% 1/1 [00:00<00:00,  1.92it/s, loss=0.0935]\n",
            "Mean loss was 0.09349755197763443\n",
            "Train mAP:0.08796289563179016\n",
            "100% 1/1 [00:00<00:00,  1.90it/s, loss=0.0835]\n",
            "Mean loss was 0.08346735686063766\n",
            "Train mAP:0.08796289563179016\n",
            "100% 1/1 [00:00<00:00,  1.89it/s, loss=0.0754]\n",
            "Mean loss was 0.07538210600614548\n",
            "Train mAP:0.16666652262210846\n",
            "100% 1/1 [00:00<00:00,  1.94it/s, loss=0.0687]\n",
            "Mean loss was 0.06869206577539444\n",
            "Train mAP:0.16666652262210846\n",
            "100% 1/1 [00:00<00:00,  1.95it/s, loss=0.0629]\n",
            "Mean loss was 0.06288591027259827\n",
            "Train mAP:0.16666652262210846\n",
            "100% 1/1 [00:00<00:00,  1.94it/s, loss=0.0566]\n",
            "Mean loss was 0.05657471716403961\n",
            "Train mAP:0.33333295583724976\n",
            "100% 1/1 [00:00<00:00,  1.95it/s, loss=0.0503]\n",
            "Mean loss was 0.05034438148140907\n",
            "Train mAP:0.33333295583724976\n",
            "100% 1/1 [00:00<00:00,  1.76it/s, loss=0.0447]\n",
            "Mean loss was 0.044691070914268494\n",
            "Train mAP:0.4642852246761322\n",
            "100% 1/1 [00:00<00:00,  1.55it/s, loss=0.0404]\n",
            "Mean loss was 0.0403975173830986\n",
            "Train mAP:0.4642852246761322\n",
            "100% 1/1 [00:00<00:00,  1.95it/s, loss=0.0371]\n",
            "Mean loss was 0.037064142525196075\n",
            "Train mAP:0.4543645679950714\n",
            "100% 1/1 [00:00<00:00,  1.92it/s, loss=0.034]\n",
            "Mean loss was 0.033951953053474426\n",
            "Train mAP:0.4365074634552002\n",
            "100% 1/1 [00:00<00:00,  1.96it/s, loss=0.0308]\n",
            "Mean loss was 0.030832253396511078\n",
            "Train mAP:0.4365074634552002\n",
            "100% 1/1 [00:00<00:00,  1.91it/s, loss=0.0281]\n",
            "Mean loss was 0.02807619795203209\n",
            "Train mAP:0.5367057919502258\n",
            "100% 1/1 [00:00<00:00,  1.95it/s, loss=0.0256]\n",
            "Mean loss was 0.025610700249671936\n",
            "Train mAP:0.7242055535316467\n",
            "100% 1/1 [00:00<00:00,  1.96it/s, loss=0.0238]\n",
            "Mean loss was 0.023770881816744804\n",
            "Train mAP:0.8700387477874756\n",
            "100% 1/1 [00:00<00:00,  1.96it/s, loss=0.0218]\n",
            "Mean loss was 0.021818270906805992\n",
            "Train mAP:0.8827938437461853\n",
            "100% 1/1 [00:00<00:00,  1.91it/s, loss=0.0199]\n",
            "Mean loss was 0.019908584654331207\n",
            "Train mAP:0.9049310088157654\n",
            "=> Saving checkpoint\n"
          ]
        }
      ]
    },
    {
      "cell_type": "markdown",
      "source": [
        "# Results"
      ],
      "metadata": {
        "id": "GfaTEkCdP6GH"
      }
    },
    {
      "cell_type": "markdown",
      "source": [
        "Show the overfitted result:"
      ],
      "metadata": {
        "id": "8Kf50tZWPkAj"
      }
    },
    {
      "cell_type": "code",
      "source": [
        "import matplotlib.pyplot as plt\n",
        "from PIL import Image\n",
        "\n",
        "img = Image.open(\"result.png\")\n",
        "plt.axis(\"off\")\n",
        "plt.imshow(img)\n"
      ],
      "metadata": {
        "id": "_p5_ESWvDH8S",
        "colab": {
          "base_uri": "https://localhost:8080/",
          "height": 266
        },
        "outputId": "19b442e8-6816-41e6-db5b-816d14ec090e"
      },
      "execution_count": 31,
      "outputs": [
        {
          "output_type": "execute_result",
          "data": {
            "text/plain": [
              "<matplotlib.image.AxesImage at 0x7f0b0c1b7d90>"
            ]
          },
          "metadata": {},
          "execution_count": 31
        },
        {
          "output_type": "display_data",
          "data": {
            "text/plain": [
              "<Figure size 432x288 with 1 Axes>"
            ],
            "image/png": "[encoded data removed]"
          },
          "metadata": {
            "needs_background": "light"
          }
        }
      ]
    },
    {
      "cell_type": "code",
      "source": [],
      "metadata": {
        "id": "CDqklD3VPTEr"
      },
      "execution_count": null,
      "outputs": []
    }
  ],
  "metadata": {
    "kernelspec": {
      "display_name": "Python 3.9.13 ('base')",
      "language": "python",
      "name": "python3"
    },
    "language_info": {
      "codemirror_mode": {
        "name": "ipython",
        "version": 3
      },
      "file_extension": ".py",
      "mimetype": "text/x-python",
      "name": "python",
      "nbconvert_exporter": "python",
      "pygments_lexer": "ipython3",
      "version": "3.9.13"
    },
    "orig_nbformat": 4,
    "vscode": {
      "interpreter": {
        "hash": "458c2f381c2a2fd10d242a54e4eac7865ad801d5331a0495aa7a4c6a87924b43"
      }
    },
    "colab": {
      "provenance": [],
      "include_colab_link": true
    },
    "accelerator": "GPU",
    "gpuClass": "standard"
  },
  "nbformat": 4,
  "nbformat_minor": 0
}