{
  "cells": [
    {
      "cell_type": "markdown",
      "metadata": {
        "colab_type": "text",
        "id": "view-in-github"
      },
      "source": [
        "<a href=\"https://colab.research.google.com/github/adrienloizeau/Yolov1_from_scratch/blob/main/train_on_collabs.ipynb\" target=\"_parent\"><img src=\"https://colab.research.google.com/assets/colab-badge.svg\" alt=\"Open In Colab\"/></a>"
      ]
    },
    {
      "cell_type": "markdown",
      "metadata": {
        "id": "pmxDZCMKPu4h"
      },
      "source": [
        "This notebook was used to train an overfitted model. The idea is to explore the results of the project.\n"
      ]
    },
    {
      "cell_type": "code",
      "execution_count": 4,
      "metadata": {
        "colab": {
          "base_uri": "https://localhost:8080/"
        },
        "id": "E1yArKEl-lJO",
        "outputId": "499457a5-9250-4dbc-ae24-0e3fe4a255d0"
      },
      "outputs": [
        {
          "name": "stdout",
          "output_type": "stream",
          "text": [
            "fatal: destination path 'Yolov1_from_scratch' already exists and is not an empty directory.\n"
          ]
        }
      ],
      "source": [
        "!git clone https://github.com/adrienloizeau/Yolov1_from_scratch.git"
      ]
    },
    {
      "cell_type": "markdown",
      "metadata": {
        "id": "c9oYjmvJ_M99"
      },
      "source": [
        "# Kaggle connection and dataset download"
      ]
    },
    {
      "cell_type": "code",
      "execution_count": 5,
      "metadata": {
        "colab": {
          "base_uri": "https://localhost:8080/",
          "height": 132
        },
        "id": "wktQ4nLr-lJQ",
        "outputId": "94f1623a-065c-4752-98de-6432889741ec"
      },
      "outputs": [
        {
          "data": {
            "text/html": [
              "\n",
              "     <input type=\"file\" id=\"files-3d54f944-6b56-497e-95f4-089d90251abb\" name=\"files[]\" multiple disabled\n",
              "        style=\"border:none\" />\n",
              "     <output id=\"result-3d54f944-6b56-497e-95f4-089d90251abb\">\n",
              "      Upload widget is only available when the cell has been executed in the\n",
              "      current browser session. Please rerun this cell to enable.\n",
              "      </output>\n",
              "      <script>// Copyright 2017 Google LLC\n",
              "//\n",
              "// Licensed under the Apache License, Version 2.0 (the \"License\");\n",
              "// you may not use this file except in compliance with the License.\n",
              "// You may obtain a copy of the License at\n",
              "//\n",
              "//      http://www.apache.org/licenses/LICENSE-2.0\n",
              "//\n",
              "// Unless required by applicable law or agreed to in writing, software\n",
              "// distributed under the License is distributed on an \"AS IS\" BASIS,\n",
              "// WITHOUT WARRANTIES OR CONDITIONS OF ANY KIND, either express or implied.\n",
              "// See the License for the specific language governing permissions and\n",
              "// limitations under the License.\n",
              "\n",
              "/**\n",
              " * @fileoverview Helpers for google.colab Python module.\n",
              " */\n",
              "(function(scope) {\n",
              "function span(text, styleAttributes = {}) {\n",
              "  const element = document.createElement('span');\n",
              "  element.textContent = text;\n",
              "  for (const key of Object.keys(styleAttributes)) {\n",
              "    element.style[key] = styleAttributes[key];\n",
              "  }\n",
              "  return element;\n",
              "}\n",
              "\n",
              "// Max number of bytes which will be uploaded at a time.\n",
              "const MAX_PAYLOAD_SIZE = 100 * 1024;\n",
              "\n",
              "function _uploadFiles(inputId, outputId) {\n",
              "  const steps = uploadFilesStep(inputId, outputId);\n",
              "  const outputElement = document.getElementById(outputId);\n",
              "  // Cache steps on the outputElement to make it available for the next call\n",
              "  // to uploadFilesContinue from Python.\n",
              "  outputElement.steps = steps;\n",
              "\n",
              "  return _uploadFilesContinue(outputId);\n",
              "}\n",
              "\n",
              "// This is roughly an async generator (not supported in the browser yet),\n",
              "// where there are multiple asynchronous steps and the Python side is going\n",
              "// to poll for completion of each step.\n",
              "// This uses a Promise to block the python side on completion of each step,\n",
              "// then passes the result of the previous step as the input to the next step.\n",
              "function _uploadFilesContinue(outputId) {\n",
              "  const outputElement = document.getElementById(outputId);\n",
              "  const steps = outputElement.steps;\n",
              "\n",
              "  const next = steps.next(outputElement.lastPromiseValue);\n",
              "  return Promise.resolve(next.value.promise).then((value) => {\n",
              "    // Cache the last promise value to make it available to the next\n",
              "    // step of the generator.\n",
              "    outputElement.lastPromiseValue = value;\n",
              "    return next.value.response;\n",
              "  });\n",
              "}\n",
              "\n",
              "/**\n",
              " * Generator function which is called between each async step of the upload\n",
              " * process.\n",
              " * @param {string} inputId Element ID of the input file picker element.\n",
              " * @param {string} outputId Element ID of the output display.\n",
              " * @return {!Iterable<!Object>} Iterable of next steps.\n",
              " */\n",
              "function* uploadFilesStep(inputId, outputId) {\n",
              "  const inputElement = document.getElementById(inputId);\n",
              "  inputElement.disabled = false;\n",
              "\n",
              "  const outputElement = document.getElementById(outputId);\n",
              "  outputElement.innerHTML = '';\n",
              "\n",
              "  const pickedPromise = new Promise((resolve) => {\n",
              "    inputElement.addEventListener('change', (e) => {\n",
              "      resolve(e.target.files);\n",
              "    });\n",
              "  });\n",
              "\n",
              "  const cancel = document.createElement('button');\n",
              "  inputElement.parentElement.appendChild(cancel);\n",
              "  cancel.textContent = 'Cancel upload';\n",
              "  const cancelPromise = new Promise((resolve) => {\n",
              "    cancel.onclick = () => {\n",
              "      resolve(null);\n",
              "    };\n",
              "  });\n",
              "\n",
              "  // Wait for the user to pick the files.\n",
              "  const files = yield {\n",
              "    promise: Promise.race([pickedPromise, cancelPromise]),\n",
              "    response: {\n",
              "      action: 'starting',\n",
              "    }\n",
              "  };\n",
              "\n",
              "  cancel.remove();\n",
              "\n",
              "  // Disable the input element since further picks are not allowed.\n",
              "  inputElement.disabled = true;\n",
              "\n",
              "  if (!files) {\n",
              "    return {\n",
              "      response: {\n",
              "        action: 'complete',\n",
              "      }\n",
              "    };\n",
              "  }\n",
              "\n",
              "  for (const file of files) {\n",
              "    const li = document.createElement('li');\n",
              "    li.append(span(file.name, {fontWeight: 'bold'}));\n",
              "    li.append(span(\n",
              "        `(${file.type || 'n/a'}) - ${file.size} bytes, ` +\n",
              "        `last modified: ${\n",
              "            file.lastModifiedDate ? file.lastModifiedDate.toLocaleDateString() :\n",
              "                                    'n/a'} - `));\n",
              "    const percent = span('0% done');\n",
              "    li.appendChild(percent);\n",
              "\n",
              "    outputElement.appendChild(li);\n",
              "\n",
              "    const fileDataPromise = new Promise((resolve) => {\n",
              "      const reader = new FileReader();\n",
              "      reader.onload = (e) => {\n",
              "        resolve(e.target.result);\n",
              "      };\n",
              "      reader.readAsArrayBuffer(file);\n",
              "    });\n",
              "    // Wait for the data to be ready.\n",
              "    let fileData = yield {\n",
              "      promise: fileDataPromise,\n",
              "      response: {\n",
              "        action: 'continue',\n",
              "      }\n",
              "    };\n",
              "\n",
              "    // Use a chunked sending to avoid message size limits. See b/62115660.\n",
              "    let position = 0;\n",
              "    do {\n",
              "      const length = Math.min(fileData.byteLength - position, MAX_PAYLOAD_SIZE);\n",
              "      const chunk = new Uint8Array(fileData, position, length);\n",
              "      position += length;\n",
              "\n",
              "      const base64 = btoa(String.fromCharCode.apply(null, chunk));\n",
              "      yield {\n",
              "        response: {\n",
              "          action: 'append',\n",
              "          file: file.name,\n",
              "          data: base64,\n",
              "        },\n",
              "      };\n",
              "\n",
              "      let percentDone = fileData.byteLength === 0 ?\n",
              "          100 :\n",
              "          Math.round((position / fileData.byteLength) * 100);\n",
              "      percent.textContent = `${percentDone}% done`;\n",
              "\n",
              "    } while (position < fileData.byteLength);\n",
              "  }\n",
              "\n",
              "  // All done.\n",
              "  yield {\n",
              "    response: {\n",
              "      action: 'complete',\n",
              "    }\n",
              "  };\n",
              "}\n",
              "\n",
              "scope.google = scope.google || {};\n",
              "scope.google.colab = scope.google.colab || {};\n",
              "scope.google.colab._files = {\n",
              "  _uploadFiles,\n",
              "  _uploadFilesContinue,\n",
              "};\n",
              "})(self);\n",
              "</script> "
            ],
            "text/plain": [
              "<IPython.core.display.HTML object>"
            ]
          },
          "metadata": {},
          "output_type": "display_data"
        },
        {
          "name": "stdout",
          "output_type": "stream",
          "text": [
            "Saving kaggle.json to kaggle.json\n",
            "Downloading pascalvoc-yolo.zip to /content\n",
            "100% 4.31G/4.31G [03:51<00:00, 22.4MB/s]\n",
            "100% 4.31G/4.31G [03:51<00:00, 20.0MB/s]\n"
          ]
        }
      ],
      "source": [
        "! pip install -q kaggle\n",
        "from google.colab import files\n",
        "files.upload()\n",
        "! mkdir ~/.kaggle\n",
        "! cp kaggle.json ~/.kaggle/\n",
        "! chmod 600 ~/.kaggle/kaggle.json\n",
        "!kaggle datasets download -d aladdinpersson/pascalvoc-yolo"
      ]
    },
    {
      "cell_type": "code",
      "execution_count": null,
      "metadata": {
        "id": "hyqguhim_X7A"
      },
      "outputs": [],
      "source": [
        "!sudo apt-get install unzip\n",
        "!unzip pascalvoc-yolo.zip "
      ]
    },
    {
      "cell_type": "markdown",
      "metadata": {
        "id": "1BKVzw3eAVXi"
      },
      "source": [
        "### Training"
      ]
    },
    {
      "cell_type": "code",
      "execution_count": 7,
      "metadata": {
        "colab": {
          "base_uri": "https://localhost:8080/"
        },
        "id": "UuKP4kFkA9JD",
        "outputId": "fb65b49f-6df8-4bfe-99e7-f92551206baf"
      },
      "outputs": [
        {
          "name": "stdout",
          "output_type": "stream",
          "text": [
            "Train mAP:0.0\n",
            "100% 1/1 [00:01<00:00,  1.44s/it, loss=0.542]\n",
            "Mean loss was 0.5424666404724121\n",
            "Train mAP:0.0\n",
            "100% 1/1 [00:00<00:00,  2.00it/s, loss=0.224]\n",
            "Mean loss was 0.22377437353134155\n",
            "Train mAP:0.0\n",
            "100% 1/1 [00:00<00:00,  2.03it/s, loss=0.135]\n",
            "Mean loss was 0.13543091714382172\n",
            "Train mAP:0.0\n",
            "100% 1/1 [00:00<00:00,  2.04it/s, loss=0.0956]\n",
            "Mean loss was 0.09564702957868576\n",
            "Train mAP:0.0\n",
            "100% 1/1 [00:00<00:00,  2.05it/s, loss=0.0725]\n",
            "Mean loss was 0.07248562574386597\n",
            "Train mAP:0.0\n",
            "100% 1/1 [00:00<00:00,  2.05it/s, loss=0.0579]\n",
            "Mean loss was 0.0578826367855072\n",
            "Train mAP:0.0\n",
            "100% 1/1 [00:00<00:00,  2.03it/s, loss=0.0481]\n",
            "Mean loss was 0.04813515767455101\n",
            "Train mAP:0.0\n",
            "100% 1/1 [00:00<00:00,  1.71it/s, loss=0.0406]\n",
            "Mean loss was 0.04055410623550415\n",
            "Train mAP:0.0\n",
            "100% 1/1 [00:00<00:00,  1.78it/s, loss=0.0343]\n",
            "Mean loss was 0.03428272902965546\n",
            "Train mAP:0.0\n",
            "100% 1/1 [00:00<00:00,  2.02it/s, loss=0.0291]\n",
            "Mean loss was 0.029066035524010658\n",
            "Train mAP:0.0\n",
            "100% 1/1 [00:00<00:00,  2.08it/s, loss=0.0248]\n",
            "Mean loss was 0.024784283712506294\n",
            "Train mAP:0.0\n",
            "100% 1/1 [00:00<00:00,  2.05it/s, loss=0.0213]\n",
            "Mean loss was 0.021301839500665665\n",
            "Train mAP:0.0\n",
            "100% 1/1 [00:00<00:00,  2.04it/s, loss=0.0185]\n",
            "Mean loss was 0.01847313903272152\n",
            "Train mAP:0.0\n",
            "100% 1/1 [00:00<00:00,  2.04it/s, loss=0.0161]\n",
            "Mean loss was 0.016093019396066666\n",
            "Train mAP:0.0\n",
            "100% 1/1 [00:00<00:00,  2.06it/s, loss=0.0141]\n",
            "Mean loss was 0.014093983918428421\n",
            "Train mAP:0.0\n",
            "100% 1/1 [00:00<00:00,  2.00it/s, loss=0.0124]\n",
            "Mean loss was 0.01238915603607893\n",
            "Train mAP:0.0\n",
            "100% 1/1 [00:00<00:00,  2.03it/s, loss=0.0109]\n",
            "Mean loss was 0.010896602645516396\n",
            "Train mAP:0.0\n",
            "100% 1/1 [00:00<00:00,  2.04it/s, loss=0.00962]\n",
            "Mean loss was 0.009624632075428963\n",
            "Train mAP:0.0\n",
            "100% 1/1 [00:00<00:00,  1.63it/s, loss=0.00851]\n",
            "Mean loss was 0.0085116196423769\n",
            "Train mAP:0.0\n",
            "100% 1/1 [00:00<00:00,  1.76it/s, loss=0.00749]\n",
            "Mean loss was 0.007494346238672733\n",
            "Train mAP:0.0\n",
            "100% 1/1 [00:00<00:00,  2.06it/s, loss=0.00665]\n",
            "Mean loss was 0.006647394970059395\n",
            "Train mAP:0.0\n",
            "100% 1/1 [00:00<00:00,  2.03it/s, loss=0.00593]\n",
            "Mean loss was 0.005930987186729908\n",
            "Train mAP:0.0\n",
            "100% 1/1 [00:00<00:00,  2.04it/s, loss=0.00531]\n",
            "Mean loss was 0.005309697240591049\n",
            "Train mAP:0.0\n",
            "100% 1/1 [00:00<00:00,  2.04it/s, loss=0.00474]\n",
            "Mean loss was 0.004742298275232315\n",
            "Train mAP:0.0\n",
            "100% 1/1 [00:00<00:00,  2.01it/s, loss=0.00424]\n",
            "Mean loss was 0.004243539646267891\n",
            "Train mAP:0.0\n",
            "100% 1/1 [00:00<00:00,  2.06it/s, loss=0.0038]\n",
            "Mean loss was 0.0038008519914001226\n",
            "Train mAP:0.0\n",
            "100% 1/1 [00:00<00:00,  2.02it/s, loss=0.0034]\n",
            "Mean loss was 0.0033959015272557735\n",
            "Train mAP:0.0\n",
            "100% 1/1 [00:00<00:00,  1.99it/s, loss=0.00304]\n",
            "Mean loss was 0.0030400168616324663\n",
            "Train mAP:0.0\n",
            "100% 1/1 [00:00<00:00,  1.99it/s, loss=0.00272]\n",
            "Mean loss was 0.0027212894055992365\n",
            "Train mAP:0.0\n",
            "100% 1/1 [00:00<00:00,  1.66it/s, loss=0.00243]\n",
            "Mean loss was 0.0024347351863980293\n",
            "Train mAP:0.0\n",
            "100% 1/1 [00:00<00:00,  1.72it/s, loss=0.00218]\n",
            "Mean loss was 0.0021830578334629536\n",
            "Train mAP:0.0\n",
            "100% 1/1 [00:00<00:00,  1.93it/s, loss=0.00194]\n",
            "Mean loss was 0.0019442784832790494\n",
            "Train mAP:0.0\n",
            "100% 1/1 [00:00<00:00,  2.02it/s, loss=0.00173]\n",
            "Mean loss was 0.001727499533444643\n",
            "Train mAP:0.0\n",
            "100% 1/1 [00:00<00:00,  2.01it/s, loss=0.00153]\n",
            "Mean loss was 0.001532399095594883\n",
            "Train mAP:0.0\n",
            "100% 1/1 [00:00<00:00,  2.06it/s, loss=0.00137]\n",
            "Mean loss was 0.0013694246299564838\n",
            "Train mAP:0.0\n",
            "100% 1/1 [00:00<00:00,  2.03it/s, loss=0.00122]\n",
            "Mean loss was 0.0012214735615998507\n",
            "Train mAP:0.0\n",
            "100% 1/1 [00:00<00:00,  2.04it/s, loss=0.00109]\n",
            "Mean loss was 0.0010897403117269278\n",
            "Train mAP:0.0\n",
            "100% 1/1 [00:00<00:00,  1.62it/s, loss=0.000969]\n",
            "Mean loss was 0.000969194108620286\n",
            "Train mAP:0.0\n",
            "100% 1/1 [00:00<00:00,  1.71it/s, loss=0.00086]\n",
            "Mean loss was 0.0008604683680459857\n",
            "Train mAP:0.05555551126599312\n",
            "100% 1/1 [00:00<00:00,  1.88it/s, loss=0.000764]\n",
            "Mean loss was 0.0007635309593752027\n",
            "Train mAP:0.05555551126599312\n",
            "100% 1/1 [00:00<00:00,  1.62it/s, loss=0.000677]\n",
            "Mean loss was 0.0006768952589482069\n",
            "Train mAP:0.05555551126599312\n",
            "100% 1/1 [00:00<00:00,  2.03it/s, loss=0.000604]\n",
            "Mean loss was 0.0006042875465936959\n",
            "Train mAP:0.05555551126599312\n",
            "100% 1/1 [00:00<00:00,  2.00it/s, loss=0.000541]\n",
            "Mean loss was 0.0005406371783465147\n",
            "Train mAP:0.05555551126599312\n",
            "100% 1/1 [00:00<00:00,  2.04it/s, loss=0.00048]\n",
            "Mean loss was 0.00048036122461780906\n",
            "Train mAP:0.05555551126599312\n",
            "100% 1/1 [00:00<00:00,  2.00it/s, loss=0.000428]\n",
            "Mean loss was 0.00042812697938643396\n",
            "Train mAP:0.05555551126599312\n",
            "100% 1/1 [00:00<00:00,  2.02it/s, loss=0.000381]\n",
            "Mean loss was 0.00038117641815915704\n",
            "Train mAP:0.05555551126599312\n",
            "100% 1/1 [00:00<00:00,  2.01it/s, loss=0.000339]\n",
            "Mean loss was 0.00033870741026476026\n",
            "Train mAP:0.05555551126599312\n",
            "100% 1/1 [00:00<00:00,  2.03it/s, loss=0.000301]\n",
            "Mean loss was 0.0003006229817401618\n",
            "Train mAP:0.05555551126599312\n",
            "100% 1/1 [00:00<00:00,  2.00it/s, loss=0.000267]\n",
            "Mean loss was 0.0002669933019205928\n",
            "Train mAP:0.05555551126599312\n",
            "100% 1/1 [00:00<00:00,  1.99it/s, loss=0.000235]\n",
            "Mean loss was 0.0002353628515265882\n",
            "Train mAP:0.05555551126599312\n",
            "100% 1/1 [00:00<00:00,  1.71it/s, loss=0.000209]\n",
            "Mean loss was 0.0002090765628963709\n",
            "Train mAP:0.05555551126599312\n",
            "100% 1/1 [00:00<00:00,  1.60it/s, loss=0.000186]\n",
            "Mean loss was 0.00018601582269184291\n",
            "Train mAP:0.05555551126599312\n",
            "100% 1/1 [00:00<00:00,  2.01it/s, loss=0.000164]\n",
            "Mean loss was 0.0001636542147025466\n",
            "Train mAP:0.05555551126599312\n",
            "100% 1/1 [00:00<00:00,  1.98it/s, loss=0.000143]\n",
            "Mean loss was 0.00014339463086798787\n",
            "Train mAP:0.08796289563179016\n",
            "100% 1/1 [00:00<00:00,  1.97it/s, loss=0.000127]\n",
            "Mean loss was 0.0001267092302441597\n",
            "Train mAP:0.16666652262210846\n",
            "100% 1/1 [00:00<00:00,  1.99it/s, loss=0.000111]\n",
            "Mean loss was 0.00011125926539534703\n",
            "Train mAP:0.16666652262210846\n",
            "100% 1/1 [00:00<00:00,  2.00it/s, loss=9.71e-5]\n",
            "Mean loss was 9.708016295917332e-05\n",
            "Train mAP:0.16666652262210846\n",
            "100% 1/1 [00:00<00:00,  1.99it/s, loss=8.48e-5]\n",
            "Mean loss was 8.482376870233566e-05\n",
            "Train mAP:0.16666652262210846\n",
            "100% 1/1 [00:00<00:00,  2.02it/s, loss=7.5e-5]\n",
            "Mean loss was 7.499934872612357e-05\n",
            "Train mAP:0.16666652262210846\n",
            "100% 1/1 [00:00<00:00,  2.01it/s, loss=6.64e-5]\n",
            "Mean loss was 6.635603494942188e-05\n",
            "Train mAP:0.16666652262210846\n",
            "100% 1/1 [00:00<00:00,  2.00it/s, loss=5.87e-5]\n",
            "Mean loss was 5.8715893828775734e-05\n",
            "Train mAP:0.16666652262210846\n",
            "100% 1/1 [00:00<00:00,  1.57it/s, loss=5.21e-5]\n",
            "Mean loss was 5.206291825743392e-05\n",
            "Train mAP:0.16666652262210846\n",
            "100% 1/1 [00:00<00:00,  1.62it/s, loss=4.6e-5]\n",
            "Mean loss was 4.5967397454660386e-05\n",
            "Train mAP:0.4642852246761322\n",
            "100% 1/1 [00:00<00:00,  1.99it/s, loss=4.08e-5]\n",
            "Mean loss was 4.078413257957436e-05\n",
            "Train mAP:0.4642852246761322\n",
            "100% 1/1 [00:00<00:00,  2.01it/s, loss=3.64e-5]\n",
            "Mean loss was 3.635516986832954e-05\n",
            "Train mAP:0.4642852246761322\n",
            "100% 1/1 [00:00<00:00,  2.01it/s, loss=3.24e-5]\n",
            "Mean loss was 3.241415834054351e-05\n",
            "Train mAP:0.4642852246761322\n",
            "100% 1/1 [00:00<00:00,  1.99it/s, loss=2.91e-5]\n",
            "Mean loss was 2.909046997956466e-05\n",
            "Train mAP:0.6138882040977478\n",
            "100% 1/1 [00:00<00:00,  2.02it/s, loss=2.57e-5]\n",
            "Mean loss was 2.5745495804585516e-05\n",
            "Train mAP:0.6123009324073792\n",
            "100% 1/1 [00:00<00:00,  1.56it/s, loss=2.25e-5]\n",
            "Mean loss was 2.252617741760332e-05\n",
            "Train mAP:0.9079355597496033\n",
            "=> Saving checkpoint\n"
          ]
        }
      ],
      "source": [
        "!python /content/Yolov1_from_scratch/train.py --dir ."
      ]
    },
    {
      "cell_type": "markdown",
      "metadata": {
        "id": "GfaTEkCdP6GH"
      },
      "source": [
        "### Results"
      ]
    },
    {
      "cell_type": "markdown",
      "metadata": {
        "id": "8Kf50tZWPkAj"
      },
      "source": [
        "Show the overfitted result:"
      ]
    },
    {
      "cell_type": "code",
      "execution_count": 8,
      "metadata": {
        "colab": {
          "base_uri": "https://localhost:8080/",
          "height": 266
        },
        "id": "_p5_ESWvDH8S",
        "outputId": "cdc45e09-2b02-4fd3-ed86-7d86271d0ef6"
      },
      "outputs": [
        {
          "data": {
            "text/plain": [
              "<matplotlib.image.AxesImage at 0x7fcfee0effd0>"
            ]
          },
          "execution_count": 8,
          "metadata": {},
          "output_type": "execute_result"
        },
        {
          "data": {
            "image/png": "[encoded data removed]",
            "text/plain": [
              "<Figure size 432x288 with 1 Axes>"
            ]
          },
          "metadata": {
            "needs_background": "light"
          },
          "output_type": "display_data"
        }
      ],
      "source": [
        "import matplotlib.pyplot as plt\n",
        "from PIL import Image\n",
        "\n",
        "img = Image.open(\"result.png\")\n",
        "plt.axis(\"off\")\n",
        "plt.imshow(img)\n"
      ]
    },
    {
      "cell_type": "markdown",
      "metadata": {
        "id": "M-CVlT1wn3k5"
      },
      "source": [
        "# Code exploration"
      ]
    },
    {
      "cell_type": "code",
      "execution_count": 16,
      "metadata": {
        "colab": {
          "base_uri": "https://localhost:8080/"
        },
        "id": "I9b6LlM4n5do",
        "outputId": "1a556317-f0bb-427a-e787-bdb1830076b1"
      },
      "outputs": [
        {
          "name": "stdout",
          "output_type": "stream",
          "text": [
            "label_matrix.shape = torch.Size([7, 7, 30])\n",
            "self.C +5 * self.B = 30\n",
            "####### Dataset ###### \n",
            "image= <PIL.JpegImagePlugin.JpegImageFile image mode=RGB size=500x333 at 0x7F691EF22F40>\n",
            "label_matrix.shape = torch.Size([7, 7, 30])\n",
            "label_matrix = tensor([[[0., 0., 0.,  ..., 0., 0., 0.],\n",
            "         [0., 0., 0.,  ..., 0., 0., 0.],\n",
            "         [0., 0., 0.,  ..., 0., 0., 0.],\n",
            "         ...,\n",
            "         [0., 0., 0.,  ..., 0., 0., 0.],\n",
            "         [0., 0., 0.,  ..., 0., 0., 0.],\n",
            "         [0., 0., 0.,  ..., 0., 0., 0.]],\n",
            "\n",
            "        [[0., 0., 0.,  ..., 0., 0., 0.],\n",
            "         [0., 0., 0.,  ..., 0., 0., 0.],\n",
            "         [0., 0., 0.,  ..., 0., 0., 0.],\n",
            "         ...,\n",
            "         [0., 0., 0.,  ..., 0., 0., 0.],\n",
            "         [0., 0., 0.,  ..., 0., 0., 0.],\n",
            "         [0., 0., 0.,  ..., 0., 0., 0.]],\n",
            "\n",
            "        [[0., 0., 0.,  ..., 0., 0., 0.],\n",
            "         [0., 0., 0.,  ..., 0., 0., 0.],\n",
            "         [0., 0., 0.,  ..., 0., 0., 0.],\n",
            "         ...,\n",
            "         [0., 0., 0.,  ..., 0., 0., 0.],\n",
            "         [0., 0., 0.,  ..., 0., 0., 0.],\n",
            "         [0., 0., 0.,  ..., 0., 0., 0.]],\n",
            "\n",
            "        ...,\n",
            "\n",
            "        [[0., 0., 0.,  ..., 0., 0., 0.],\n",
            "         [0., 0., 0.,  ..., 0., 0., 0.],\n",
            "         [0., 0., 0.,  ..., 0., 0., 0.],\n",
            "         ...,\n",
            "         [0., 0., 0.,  ..., 0., 0., 0.],\n",
            "         [0., 0., 0.,  ..., 0., 0., 0.],\n",
            "         [0., 0., 0.,  ..., 0., 0., 0.]],\n",
            "\n",
            "        [[0., 0., 0.,  ..., 0., 0., 0.],\n",
            "         [0., 0., 0.,  ..., 0., 0., 0.],\n",
            "         [0., 0., 0.,  ..., 0., 0., 0.],\n",
            "         ...,\n",
            "         [0., 0., 0.,  ..., 0., 0., 0.],\n",
            "         [0., 0., 0.,  ..., 0., 0., 0.],\n",
            "         [0., 0., 0.,  ..., 0., 0., 0.]],\n",
            "\n",
            "        [[0., 0., 0.,  ..., 0., 0., 0.],\n",
            "         [0., 0., 0.,  ..., 0., 0., 0.],\n",
            "         [0., 0., 0.,  ..., 0., 0., 0.],\n",
            "         ...,\n",
            "         [0., 0., 0.,  ..., 0., 0., 0.],\n",
            "         [0., 0., 0.,  ..., 0., 0., 0.],\n",
            "         [0., 0., 0.,  ..., 0., 0., 0.]]])\n",
            "______________________\n",
            "label_matrix[1].shape = torch.Size([7, 30])\n",
            "label_matrix[1] = tensor([[0., 0., 0., 0., 0., 0., 0., 0., 0., 0., 0., 0., 0., 0., 0., 0., 0., 0., 0., 0., 0., 0., 0., 0.,\n",
            "         0., 0., 0., 0., 0., 0.],\n",
            "        [0., 0., 0., 0., 0., 0., 0., 0., 0., 0., 0., 0., 0., 0., 0., 0., 0., 0., 0., 0., 0., 0., 0., 0.,\n",
            "         0., 0., 0., 0., 0., 0.],\n",
            "        [0., 0., 0., 0., 0., 0., 0., 0., 0., 0., 0., 0., 0., 0., 0., 0., 0., 0., 0., 0., 0., 0., 0., 0.,\n",
            "         0., 0., 0., 0., 0., 0.],\n",
            "        [0., 0., 0., 0., 0., 0., 0., 0., 0., 0., 0., 0., 0., 0., 0., 0., 0., 0., 0., 0., 0., 0., 0., 0.,\n",
            "         0., 0., 0., 0., 0., 0.],\n",
            "        [0., 0., 0., 0., 0., 0., 0., 0., 0., 0., 0., 0., 0., 0., 0., 0., 0., 0., 0., 0., 0., 0., 0., 0.,\n",
            "         0., 0., 0., 0., 0., 0.],\n",
            "        [0., 0., 0., 0., 0., 0., 0., 0., 0., 0., 0., 0., 0., 0., 0., 0., 0., 0., 0., 0., 0., 0., 0., 0.,\n",
            "         0., 0., 0., 0., 0., 0.],\n",
            "        [0., 0., 0., 0., 0., 0., 0., 0., 0., 0., 0., 0., 0., 0., 0., 0., 0., 0., 0., 0., 0., 0., 0., 0.,\n",
            "         0., 0., 0., 0., 0., 0.]])\n"
          ]
        }
      ],
      "source": [
        "!python Yolov1_from_scratch/dataset.py "
      ]
    },
    {
      "cell_type": "code",
      "execution_count": 15,
      "metadata": {
        "id": "1p6wvfNvqMjN"
      },
      "outputs": [],
      "source": []
    }
  ],
  "metadata": {
    "accelerator": "GPU",
    "colab": {
      "include_colab_link": true,
      "provenance": []
    },
    "gpuClass": "standard",
    "kernelspec": {
      "display_name": "Python 3.6.9 64-bit",
      "language": "python",
      "name": "python3"
    },
    "language_info": {
      "codemirror_mode": {
        "name": "ipython",
        "version": 3
      },
      "file_extension": ".py",
      "mimetype": "text/x-python",
      "name": "python",
      "nbconvert_exporter": "python",
      "pygments_lexer": "ipython3",
      "version": "3.6.9"
    },
    "orig_nbformat": 4,
    "vscode": {
      "interpreter": {
        "hash": "767d51c1340bd893661ea55ea3124f6de3c7a262a8b4abca0554b478b1e2ff90"
      }
    }
  },
  "nbformat": 4,
  "nbformat_minor": 0
}
